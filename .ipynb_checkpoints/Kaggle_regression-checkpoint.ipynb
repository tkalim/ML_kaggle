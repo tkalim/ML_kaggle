{
 "cells": [
  {
   "cell_type": "code",
   "execution_count": 1,
   "metadata": {
    "collapsed": true
   },
   "outputs": [],
   "source": [
    "import numpy as np\n",
    "import pandas as pd\n",
    "import matplotlib.pyplot as plt"
   ]
  },
  {
   "cell_type": "code",
   "execution_count": 2,
   "metadata": {
    "collapsed": true
   },
   "outputs": [],
   "source": [
    "#RMSLE\n",
    "import timeit\n",
    "import math\n",
    "def rmsle(y, y_pred):\n",
    "    assert len(y) == len(y_pred)\n",
    "    terms_to_sum = [(math.log(y_pred[i] + 1) - math.log(y[i] + 1)) ** 2.0 for i,pred in enumerate(y_pred)]\n",
    "    return (sum(terms_to_sum) * (1.0/len(y))) ** 0.5"
   ]
  },
  {
   "cell_type": "code",
   "execution_count": 3,
   "metadata": {
    "collapsed": true
   },
   "outputs": [],
   "source": [
    "# Make predictions fit for Kaggle\n",
    "# No negatives\n",
    "def fit_for_kaggle(y):\n",
    "    for i in range(len(y)):\n",
    "        y[i] = max(0,y[i])\n",
    "# Only int\n",
    "    y = y.astype(int)\n",
    "    return y"
   ]
  },
  {
   "cell_type": "code",
   "execution_count": 4,
   "metadata": {
    "collapsed": true
   },
   "outputs": [],
   "source": [
    "# Exports in Kaggle format\n",
    "def Export_for_Kaggle(y_pred, path):\n",
    "# path is the name of the file \"x.csv\"\n",
    "    data_out = pd.DataFrame(y_pred, columns = ['Prediction'])\n",
    "    data_out.index.name = 'Id'\n",
    "    data_out.to_csv(path, sep = \",\")\n",
    "    \n",
    "    return"
   ]
  },
  {
   "cell_type": "code",
   "execution_count": 5,
   "metadata": {
    "collapsed": true
   },
   "outputs": [],
   "source": [
    "#import all data\n",
    "feature_data = pd.read_csv('kaggle_data/features.txt', header=None, sep=\"  \", names=['feature_names', 'feature_description'], engine='python')\n",
    "list_feature_names = list(feature_data['feature_names'])\n",
    "train_data = pd.read_csv('kaggle_data/train.csv', header=None, sep=\" \", names=list_feature_names)\n",
    "test_data=pd.read_csv('kaggle_data/test-val.csv',header=None,sep=\" \",names=list_feature_names)\n",
    "target_data = pd.read_csv('kaggle_data/train-targets.csv', sep=\",\")"
   ]
  },
  {
   "cell_type": "code",
   "execution_count": 6,
   "metadata": {
    "collapsed": true
   },
   "outputs": [],
   "source": [
    "#Data engineering \n",
    "\n",
    "# 'weekday' encoding\n",
    "weekday_data = pd.get_dummies(train_data['weekday'],prefix='weekday',drop_first=True)\n",
    "\n",
    "# 'category' encoding\n",
    "category_data = pd.get_dummies(train_data['category'],prefix='category',drop_first=True)\n",
    "\n",
    "#fusion that shit\n",
    "other_data = train_data.drop(['weekday','category'],axis=1)\n",
    "training_data = pd.concat([category_data,weekday_data,other_data],axis=1)"
   ]
  },
  {
   "cell_type": "code",
   "execution_count": 7,
   "metadata": {
    "collapsed": true
   },
   "outputs": [],
   "source": [
    "#lets do the same with the test data\n",
    "weekday_data_test=pd.get_dummies(test_data['weekday'],prefix='weekday',drop_first=True)\n",
    "category_data_test=pd.get_dummies(test_data['category'],prefix='category',drop_first=True)\n",
    "other_data_test=test_data.drop(['weekday','category'],axis=1)\n",
    "testing_data=pd.concat([category_data_test,weekday_data_test,other_data_test],axis=1)\n",
    "\n",
    "#see it\n",
    "#testing_data.head(5)\n"
   ]
  },
  {
   "cell_type": "code",
   "execution_count": 8,
   "metadata": {
    "collapsed": true
   },
   "outputs": [],
   "source": [
    "#Data standardization\n",
    "from sklearn import preprocessing\n",
    "scaler = preprocessing.StandardScaler()\n",
    "scaler.fit(training_data)\n",
    "X_reg = scaler.transform(training_data)\n",
    "y_reg = target_data['Prediction'].values\n",
    "\n",
    "#scale that test data\n",
    "X_test = scaler.transform(testing_data)\n",
    "\n",
    "#visualize X_reg\n",
    "#print X_reg"
   ]
  },
  {
   "cell_type": "code",
   "execution_count": 9,
   "metadata": {
    "collapsed": true
   },
   "outputs": [],
   "source": [
    "# Making the kfold\n",
    "from sklearn import model_selection\n",
    "kf = model_selection.KFold(n_splits = 10)\n",
    "k_folds = kf.split(X_reg, y_reg)"
   ]
  },
  {
   "cell_type": "code",
   "execution_count": 10,
   "metadata": {
    "collapsed": true
   },
   "outputs": [],
   "source": [
    "# Setting up the Linear regression\n",
    "from sklearn import linear_model\n",
    "lin_reg = linear_model.LinearRegression()"
   ]
  },
  {
   "cell_type": "code",
   "execution_count": 11,
   "metadata": {},
   "outputs": [
    {
     "data": {
      "text/plain": [
       "array([2867, 2237, 4349, ..., 3674, 6793, 1897])"
      ]
     },
     "execution_count": 11,
     "metadata": {},
     "output_type": "execute_result"
    }
   ],
   "source": [
    "# Predictions by Cross validation\n",
    "y_pred = model_selection.cross_val_predict(lin_reg, X_reg, y_reg, cv=k_folds)\n",
    "# num shares can't be negative, so 0 instead\n",
    "fit_for_kaggle(y_pred)"
   ]
  },
  {
   "cell_type": "code",
   "execution_count": 12,
   "metadata": {},
   "outputs": [
    {
     "name": "stdout",
     "output_type": "stream",
     "text": [
      "Mean squared error: 60429191.508\n"
     ]
    }
   ],
   "source": [
    "# Let's see the error\n",
    "from sklearn import metrics\n",
    "print(\"Mean squared error: %.3f\" % metrics.mean_squared_error(y_reg, y_pred))"
   ]
  },
  {
   "cell_type": "code",
   "execution_count": 13,
   "metadata": {},
   "outputs": [
    {
     "data": {
      "text/plain": [
       "1.2177093989935257"
      ]
     },
     "execution_count": 13,
     "metadata": {},
     "output_type": "execute_result"
    }
   ],
   "source": [
    "#RMSLE \n",
    "rmsle(y_reg, y_pred)"
   ]
  },
  {
   "cell_type": "code",
   "execution_count": 14,
   "metadata": {},
   "outputs": [
    {
     "name": "stdout",
     "output_type": "stream",
     "text": [
      "[ 3159.6075969   4992.74842606  1855.4661532  ...,  2680.83242045\n",
      "  1919.90795272  3575.68864659]\n"
     ]
    }
   ],
   "source": [
    "# Prediction on Test set\n",
    "lin_reg.fit(X_reg,y_reg)\n",
    "y_test_reg = lin_reg.predict(X_test)\n",
    "fit_for_kaggle(y_test_reg)\n",
    "print(y_test_reg)"
   ]
  },
  {
   "cell_type": "code",
   "execution_count": 15,
   "metadata": {
    "collapsed": true
   },
   "outputs": [],
   "source": [
    "#Expoeting\n",
    "Export_for_Kaggle(y_test_reg, \"solution_reg.csv\")"
   ]
  },
  {
   "cell_type": "code",
   "execution_count": 19,
   "metadata": {},
   "outputs": [
    {
     "data": {
      "text/plain": [
       "1.055437278734848"
      ]
     },
     "execution_count": 19,
     "metadata": {},
     "output_type": "execute_result"
    }
   ],
   "source": [
    "#RIDGE\n",
    "kf2 = model_selection.KFold(n_splits=5)\n",
    "kf2.get_n_splits(X_reg)\n",
    "folds_regr = [(tr, te) for (tr, te) in kf2.split(X_reg)]\n",
    "param_grid = {'alpha': np.logspace(-3, 3, 6)}\n",
    "#regr_ridge_opt = model_selection.GridSearchCV(linear_model.Ridge(), param_grid, cv=folds_regr, scoring='neg_mean_squared_log_error')\n",
    "regr_ridge_opt = model_selection.GridSearchCV(linear_model.Ridge(), param_grid)\n",
    "regr_ridge_opt.fit(X_reg, y_reg)\n",
    "ypred_ridge_opt = regr_ridge_opt.predict(X_reg)\n",
    "fit_for_kaggle(ypred_ridge_opt)\n",
    "rmsle(y_reg, ypred_ridge_opt)\n",
    "#print('param=', regr_ridge_opt.best_params_, 'RMSE=', np.sqrt(-1*regr_ridge_opt.best_score_))"
   ]
  },
  {
   "cell_type": "code",
   "execution_count": 20,
   "metadata": {
    "collapsed": true
   },
   "outputs": [],
   "source": [
    "#Ridge for test\n",
    "y_test_ridge = regr_ridge_opt.predict(X_test)\n",
    "y_test_ridge = fit_for_kaggle(y_test_ridge)\n",
    "Export_for_Kaggle(y_test_ridge, \"solution_ridge.csv\")"
   ]
  },
  {
   "cell_type": "code",
   "execution_count": 22,
   "metadata": {},
   "outputs": [],
   "source": [
    "# Lasso\n",
    "regr_lasso = model_selection.GridSearchCV(linear_model.Lasso(), param_grid, cv=folds_regr)\n",
    "regr_lasso.fit(X_reg, y_reg)\n",
    "ypred_lasso = regr_lasso.predict(X_test)\n",
    "ypred_lasso = fit_for_kaggle(ypred_lasso)\n",
    "Export_for_Kaggle(ypred_lasso, \"solution_lasso.csv\")"
   ]
  },
  {
   "cell_type": "code",
   "execution_count": 32,
   "metadata": {},
   "outputs": [
    {
     "ename": "KeyboardInterrupt",
     "evalue": "",
     "output_type": "error",
     "traceback": [
      "\u001b[1;31m\u001b[0m",
      "\u001b[1;31mKeyboardInterrupt\u001b[0mTraceback (most recent call last)",
      "\u001b[1;32m<ipython-input-32-48786556d0eb>\u001b[0m in \u001b[0;36m<module>\u001b[1;34m()\u001b[0m\n\u001b[0;32m      6\u001b[0m \u001b[0mt_SNE\u001b[0m \u001b[1;33m=\u001b[0m \u001b[0mmanifold\u001b[0m\u001b[1;33m.\u001b[0m\u001b[0mTSNE\u001b[0m\u001b[1;33m(\u001b[0m\u001b[0mn_components\u001b[0m \u001b[1;33m=\u001b[0m \u001b[1;36m3\u001b[0m\u001b[1;33m)\u001b[0m\u001b[1;33m\u001b[0m\u001b[0m\n\u001b[0;32m      7\u001b[0m \u001b[0mX_reg_tsne\u001b[0m \u001b[1;33m=\u001b[0m \u001b[0mt_SNE\u001b[0m\u001b[1;33m.\u001b[0m\u001b[0mfit_transform\u001b[0m\u001b[1;33m(\u001b[0m\u001b[0mX_reg_1\u001b[0m\u001b[1;33m,\u001b[0m \u001b[0my_reg\u001b[0m\u001b[1;33m)\u001b[0m\u001b[1;33m\u001b[0m\u001b[0m\n\u001b[1;32m----> 8\u001b[1;33m \u001b[0mX_test_tsne\u001b[0m \u001b[1;33m=\u001b[0m \u001b[0mt_SNE\u001b[0m\u001b[1;33m.\u001b[0m\u001b[0mfit_transform\u001b[0m\u001b[1;33m(\u001b[0m\u001b[0mX_test\u001b[0m\u001b[1;33m)\u001b[0m\u001b[1;33m\u001b[0m\u001b[0m\n\u001b[0m",
      "\u001b[1;32mC:\\Users\\Tariq\\Anaconda2\\lib\\site-packages\\sklearn\\manifold\\t_sne.py\u001b[0m in \u001b[0;36mfit_transform\u001b[1;34m(self, X, y)\u001b[0m\n\u001b[0;32m    857\u001b[0m             \u001b[0mEmbedding\u001b[0m \u001b[0mof\u001b[0m \u001b[0mthe\u001b[0m \u001b[0mtraining\u001b[0m \u001b[0mdata\u001b[0m \u001b[1;32min\u001b[0m \u001b[0mlow\u001b[0m\u001b[1;33m-\u001b[0m\u001b[0mdimensional\u001b[0m \u001b[0mspace\u001b[0m\u001b[1;33m.\u001b[0m\u001b[1;33m\u001b[0m\u001b[0m\n\u001b[0;32m    858\u001b[0m         \"\"\"\n\u001b[1;32m--> 859\u001b[1;33m         \u001b[0membedding\u001b[0m \u001b[1;33m=\u001b[0m \u001b[0mself\u001b[0m\u001b[1;33m.\u001b[0m\u001b[0m_fit\u001b[0m\u001b[1;33m(\u001b[0m\u001b[0mX\u001b[0m\u001b[1;33m)\u001b[0m\u001b[1;33m\u001b[0m\u001b[0m\n\u001b[0m\u001b[0;32m    860\u001b[0m         \u001b[0mself\u001b[0m\u001b[1;33m.\u001b[0m\u001b[0membedding_\u001b[0m \u001b[1;33m=\u001b[0m \u001b[0membedding\u001b[0m\u001b[1;33m\u001b[0m\u001b[0m\n\u001b[0;32m    861\u001b[0m         \u001b[1;32mreturn\u001b[0m \u001b[0mself\u001b[0m\u001b[1;33m.\u001b[0m\u001b[0membedding_\u001b[0m\u001b[1;33m\u001b[0m\u001b[0m\n",
      "\u001b[1;32mC:\\Users\\Tariq\\Anaconda2\\lib\\site-packages\\sklearn\\manifold\\t_sne.py\u001b[0m in \u001b[0;36m_fit\u001b[1;34m(self, X, skip_num_points)\u001b[0m\n\u001b[0;32m    771\u001b[0m                           \u001b[0mX_embedded\u001b[0m\u001b[1;33m=\u001b[0m\u001b[0mX_embedded\u001b[0m\u001b[1;33m,\u001b[0m\u001b[1;33m\u001b[0m\u001b[0m\n\u001b[0;32m    772\u001b[0m                           \u001b[0mneighbors\u001b[0m\u001b[1;33m=\u001b[0m\u001b[0mneighbors_nn\u001b[0m\u001b[1;33m,\u001b[0m\u001b[1;33m\u001b[0m\u001b[0m\n\u001b[1;32m--> 773\u001b[1;33m                           skip_num_points=skip_num_points)\n\u001b[0m\u001b[0;32m    774\u001b[0m \u001b[1;33m\u001b[0m\u001b[0m\n\u001b[0;32m    775\u001b[0m     \u001b[1;33m@\u001b[0m\u001b[0mproperty\u001b[0m\u001b[1;33m\u001b[0m\u001b[0m\n",
      "\u001b[1;32mC:\\Users\\Tariq\\Anaconda2\\lib\\site-packages\\sklearn\\manifold\\t_sne.py\u001b[0m in \u001b[0;36m_tsne\u001b[1;34m(self, P, degrees_of_freedom, n_samples, random_state, X_embedded, neighbors, skip_num_points)\u001b[0m\n\u001b[0;32m    828\u001b[0m             \u001b[0mopt_args\u001b[0m\u001b[1;33m[\u001b[0m\u001b[1;34m'n_iter_without_progress'\u001b[0m\u001b[1;33m]\u001b[0m \u001b[1;33m=\u001b[0m \u001b[0mself\u001b[0m\u001b[1;33m.\u001b[0m\u001b[0mn_iter_without_progress\u001b[0m\u001b[1;33m\u001b[0m\u001b[0m\n\u001b[0;32m    829\u001b[0m             params, kl_divergence, it = _gradient_descent(obj_func, params,\n\u001b[1;32m--> 830\u001b[1;33m                                                           **opt_args)\n\u001b[0m\u001b[0;32m    831\u001b[0m \u001b[1;33m\u001b[0m\u001b[0m\n\u001b[0;32m    832\u001b[0m         \u001b[1;31m# Save the final number of iterations\u001b[0m\u001b[1;33m\u001b[0m\u001b[1;33m\u001b[0m\u001b[0m\n",
      "\u001b[1;32mC:\\Users\\Tariq\\Anaconda2\\lib\\site-packages\\sklearn\\manifold\\t_sne.py\u001b[0m in \u001b[0;36m_gradient_descent\u001b[1;34m(objective, p0, it, n_iter, n_iter_check, n_iter_without_progress, momentum, learning_rate, min_gain, min_grad_norm, verbose, args, kwargs)\u001b[0m\n\u001b[0;32m    338\u001b[0m     \u001b[1;32mfor\u001b[0m \u001b[0mi\u001b[0m \u001b[1;32min\u001b[0m \u001b[0mrange\u001b[0m\u001b[1;33m(\u001b[0m\u001b[0mit\u001b[0m\u001b[1;33m,\u001b[0m \u001b[0mn_iter\u001b[0m\u001b[1;33m)\u001b[0m\u001b[1;33m:\u001b[0m\u001b[1;33m\u001b[0m\u001b[0m\n\u001b[0;32m    339\u001b[0m         \u001b[0merror\u001b[0m\u001b[1;33m,\u001b[0m \u001b[0mgrad\u001b[0m \u001b[1;33m=\u001b[0m \u001b[0mobjective\u001b[0m\u001b[1;33m(\u001b[0m\u001b[0mp\u001b[0m\u001b[1;33m,\u001b[0m \u001b[1;33m*\u001b[0m\u001b[0margs\u001b[0m\u001b[1;33m,\u001b[0m \u001b[1;33m**\u001b[0m\u001b[0mkwargs\u001b[0m\u001b[1;33m)\u001b[0m\u001b[1;33m\u001b[0m\u001b[0m\n\u001b[1;32m--> 340\u001b[1;33m         \u001b[0mgrad_norm\u001b[0m \u001b[1;33m=\u001b[0m \u001b[0mlinalg\u001b[0m\u001b[1;33m.\u001b[0m\u001b[0mnorm\u001b[0m\u001b[1;33m(\u001b[0m\u001b[0mgrad\u001b[0m\u001b[1;33m)\u001b[0m\u001b[1;33m\u001b[0m\u001b[0m\n\u001b[0m\u001b[0;32m    341\u001b[0m \u001b[1;33m\u001b[0m\u001b[0m\n\u001b[0;32m    342\u001b[0m         \u001b[0minc\u001b[0m \u001b[1;33m=\u001b[0m \u001b[0mupdate\u001b[0m \u001b[1;33m*\u001b[0m \u001b[0mgrad\u001b[0m \u001b[1;33m<\u001b[0m \u001b[1;36m0.0\u001b[0m\u001b[1;33m\u001b[0m\u001b[0m\n",
      "\u001b[1;32mC:\\Users\\Tariq\\Anaconda2\\lib\\site-packages\\scipy\\linalg\\misc.pyc\u001b[0m in \u001b[0;36mnorm\u001b[1;34m(a, ord, axis, keepdims)\u001b[0m\n\u001b[0;32m    127\u001b[0m     \"\"\"\n\u001b[0;32m    128\u001b[0m     \u001b[1;31m# Differs from numpy only in non-finite handling and the use of blas.\u001b[0m\u001b[1;33m\u001b[0m\u001b[1;33m\u001b[0m\u001b[0m\n\u001b[1;32m--> 129\u001b[1;33m     \u001b[0ma\u001b[0m \u001b[1;33m=\u001b[0m \u001b[0mnp\u001b[0m\u001b[1;33m.\u001b[0m\u001b[0masarray_chkfinite\u001b[0m\u001b[1;33m(\u001b[0m\u001b[0ma\u001b[0m\u001b[1;33m)\u001b[0m\u001b[1;33m\u001b[0m\u001b[0m\n\u001b[0m\u001b[0;32m    130\u001b[0m \u001b[1;33m\u001b[0m\u001b[0m\n\u001b[0;32m    131\u001b[0m     \u001b[1;31m# Only use optimized norms if axis and keepdims are not specified.\u001b[0m\u001b[1;33m\u001b[0m\u001b[1;33m\u001b[0m\u001b[0m\n",
      "\u001b[1;32mC:\\Users\\Tariq\\Anaconda2\\lib\\site-packages\\numpy\\lib\\function_base.pyc\u001b[0m in \u001b[0;36masarray_chkfinite\u001b[1;34m(a, dtype, order)\u001b[0m\n\u001b[0;32m   1211\u001b[0m     \"\"\"\n\u001b[0;32m   1212\u001b[0m     \u001b[0ma\u001b[0m \u001b[1;33m=\u001b[0m \u001b[0masarray\u001b[0m\u001b[1;33m(\u001b[0m\u001b[0ma\u001b[0m\u001b[1;33m,\u001b[0m \u001b[0mdtype\u001b[0m\u001b[1;33m=\u001b[0m\u001b[0mdtype\u001b[0m\u001b[1;33m,\u001b[0m \u001b[0morder\u001b[0m\u001b[1;33m=\u001b[0m\u001b[0morder\u001b[0m\u001b[1;33m)\u001b[0m\u001b[1;33m\u001b[0m\u001b[0m\n\u001b[1;32m-> 1213\u001b[1;33m     \u001b[1;32mif\u001b[0m \u001b[0ma\u001b[0m\u001b[1;33m.\u001b[0m\u001b[0mdtype\u001b[0m\u001b[1;33m.\u001b[0m\u001b[0mchar\u001b[0m \u001b[1;32min\u001b[0m \u001b[0mtypecodes\u001b[0m\u001b[1;33m[\u001b[0m\u001b[1;34m'AllFloat'\u001b[0m\u001b[1;33m]\u001b[0m \u001b[1;32mand\u001b[0m \u001b[1;32mnot\u001b[0m \u001b[0mnp\u001b[0m\u001b[1;33m.\u001b[0m\u001b[0misfinite\u001b[0m\u001b[1;33m(\u001b[0m\u001b[0ma\u001b[0m\u001b[1;33m)\u001b[0m\u001b[1;33m.\u001b[0m\u001b[0mall\u001b[0m\u001b[1;33m(\u001b[0m\u001b[1;33m)\u001b[0m\u001b[1;33m:\u001b[0m\u001b[1;33m\u001b[0m\u001b[0m\n\u001b[0m\u001b[0;32m   1214\u001b[0m         raise ValueError(\n\u001b[0;32m   1215\u001b[0m             \"array must not contain infs or NaNs\")\n",
      "\u001b[1;31mKeyboardInterrupt\u001b[0m: "
     ]
    }
   ],
   "source": [
    "#tSNE\n",
    "from sklearn import manifold\n",
    "#let's make a copy of X_reg\n",
    "X_reg_1 = X_reg\n",
    "#let's declare it\n",
    "t_SNE = manifold.TSNE(n_components = 3)\n",
    "X_reg_tsne = t_SNE.fit_transform(X_reg_1, y_reg)\n",
    "X_test_tsne = t_SNE.fit_transform(X_test)"
   ]
  },
  {
   "cell_type": "code",
   "execution_count": 71,
   "metadata": {
    "collapsed": true
   },
   "outputs": [],
   "source": [
    "#PCA\n",
    "from sklearn import decomposition\n",
    "ACP = decomposition.PCA(n_components = 40)\n",
    "ACP.fit(X_reg)\n",
    "X_test_acp = ACP.transform(X_test)\n",
    "X_reg_acp = ACP.transform(X_reg)\n"
   ]
  },
  {
   "cell_type": "code",
   "execution_count": 28,
   "metadata": {},
   "outputs": [
    {
     "name": "stdout",
     "output_type": "stream",
     "text": [
      "0.868354510229\n"
     ]
    }
   ],
   "source": [
    "#KNN\n",
    "#n_neighbors = 5\n",
    "#from sklearn import neighbors\n",
    "#KNN = neighbors.KNeighborsRegressor(n_neighbors = n_neighbors)\n",
    "#KNN.fit(X_reg_tsne, y_reg)\n",
    "#y_reg_knn = KNN.predict(X_reg_tsne)\n",
    "#y_reg_knn = fit_for_kaggle(y_reg_knn)\n",
    "#print rmsle(y_reg, y_reg_knn)"
   ]
  },
  {
   "cell_type": "code",
   "execution_count": 30,
   "metadata": {},
   "outputs": [],
   "source": [
    "#KNN for test\n",
    "#y_test_knn = KNN.predict(X_test_tsne)\n",
    "#y_test_knn = fit_for_kaggle(y_test_knn)\n",
    "#Export_for_Kaggle(y_test_knn, \"solution_knn-tsne.csv\")\n"
   ]
  },
  {
   "cell_type": "code",
   "execution_count": 79,
   "metadata": {},
   "outputs": [
    {
     "name": "stdout",
     "output_type": "stream",
     "text": [
      "0.725257608539\n"
     ]
    }
   ],
   "source": [
    "#KNN with acp\n",
    "KNN = neighbors.KNeighborsRegressor(n_neighbors = 3)\n",
    "KNN.fit(X_reg_acp, y_reg)\n",
    "y_reg_knn_acp = KNN.predict(X_reg_acp)\n",
    "y_reg_knn_acp = fit_for_kaggle(y_reg_knn_acp)\n",
    "print rmsle(y_reg, y_reg_knn_acp)\n",
    "y_test_knn_acp = KNN.predict(X_test_acp)\n",
    "y_test_knn_acp = fit_for_kaggle(y_test_knn_acp)\n",
    "Export_for_Kaggle(y_test_knn_acp, \"solution_knn-acp.csv\")"
   ]
  },
  {
   "cell_type": "code",
   "execution_count": null,
   "metadata": {
    "collapsed": true
   },
   "outputs": [],
   "source": []
  }
 ],
 "metadata": {
  "kernelspec": {
   "display_name": "Python 2",
   "language": "python",
   "name": "python2"
  },
  "language_info": {
   "codemirror_mode": {
    "name": "ipython",
    "version": 2
   },
   "file_extension": ".py",
   "mimetype": "text/x-python",
   "name": "python",
   "nbconvert_exporter": "python",
   "pygments_lexer": "ipython2",
   "version": "2.7.13"
  }
 },
 "nbformat": 4,
 "nbformat_minor": 2
}
