{
 "cells": [
  {
   "cell_type": "code",
   "execution_count": 1,
   "metadata": {
    "collapsed": true
   },
   "outputs": [],
   "source": [
    "import numpy as np\n",
    "import pandas as pd\n",
    "import matplotlib.pyplot as plt"
   ]
  },
  {
   "cell_type": "code",
   "execution_count": 2,
   "metadata": {
    "collapsed": true
   },
   "outputs": [],
   "source": [
    "#import all data\n",
    "feature_data = pd.read_csv('kaggle_data/features.txt', header=None, sep=\"  \", names=['feature_names', 'feature_description'], engine='python')\n",
    "list_feature_names = list(feature_data['feature_names'])\n",
    "train_data = pd.read_csv('kaggle_data/train.csv', header=None, sep=\" \", names=list_feature_names)\n",
    "test_data=pd.read_csv('kaggle_data/test-val.csv',header=None,sep=\" \",names=list_feature_names)\n",
    "target_data = pd.read_csv('kaggle_data/train-targets.csv', sep=\",\")"
   ]
  },
  {
   "cell_type": "code",
   "execution_count": 3,
   "metadata": {
    "collapsed": true
   },
   "outputs": [],
   "source": [
    "#Data engineering \n",
    "\n",
    "# 'weekday' encoding\n",
    "weekday_data = pd.get_dummies(train_data['weekday'],prefix='weekday',drop_first=True)\n",
    "\n",
    "# 'category' encoding\n",
    "category_data = pd.get_dummies(train_data['category'],prefix='category',drop_first=True)\n",
    "\n",
    "#fusion that shit\n",
    "other_data = train_data.drop(['weekday','category'],axis=1)\n",
    "training_data = pd.concat([category_data,weekday_data,other_data],axis=1)"
   ]
  },
  {
   "cell_type": "code",
   "execution_count": 6,
   "metadata": {
    "collapsed": true
   },
   "outputs": [],
   "source": [
    "#lets do the same with the test data\n",
    "weekday_data_test=pd.get_dummies(test_data['weekday'],prefix='weekday',drop_first=True)\n",
    "category_data_test=pd.get_dummies(test_data['category'],prefix='category',drop_first=True)\n",
    "other_data_test=test_data.drop(['weekday','category'],axis=1)\n",
    "testing_data=pd.concat([category_data_test,weekday_data_test,other_data_test],axis=1)\n",
    "\n",
    "#see it\n",
    "#testing_data.head(5)\n"
   ]
  },
  {
   "cell_type": "code",
   "execution_count": 16,
   "metadata": {
    "collapsed": true
   },
   "outputs": [],
   "source": [
    "#Data standardization\n",
    "from sklearn import preprocessing\n",
    "scaler = preprocessing.StandardScaler()\n",
    "scaler.fit(training_data)\n",
    "X_reg = scaler.transform(training_data)\n",
    "y_reg = target_data['Prediction'].values\n",
    "\n",
    "#scale that test data\n",
    "X_test = scaler.transform(testing_data)\n",
    "\n",
    "#visualize X_reg\n",
    "#print X_reg"
   ]
  },
  {
   "cell_type": "code",
   "execution_count": 17,
   "metadata": {
    "collapsed": true
   },
   "outputs": [],
   "source": [
    "# Making the kfold\n",
    "from sklearn import model_selection\n",
    "kf = model_selection.KFold(n_splits = 5)\n",
    "k_folds = kf.split(X_reg, y_reg)"
   ]
  },
  {
   "cell_type": "code",
   "execution_count": 18,
   "metadata": {
    "collapsed": true
   },
   "outputs": [],
   "source": [
    "# Setting up the Linear regression\n",
    "from sklearn import linear_model\n",
    "lin_reg = linear_model.LinearRegression()"
   ]
  },
  {
   "cell_type": "code",
   "execution_count": 19,
   "metadata": {
    "collapsed": true
   },
   "outputs": [],
   "source": [
    "# Predictions by Cross validation\n",
    "y_pred = model_selection.cross_val_predict(lin_reg, X_reg, y_reg, cv=k_folds)"
   ]
  },
  {
   "cell_type": "code",
   "execution_count": 21,
   "metadata": {},
   "outputs": [
    {
     "name": "stdout",
     "output_type": "stream",
     "text": [
      "Mean squared error: 60730229.243\n"
     ]
    }
   ],
   "source": [
    "# Let's see the error\n",
    "from sklearn import metrics\n",
    "print(\"Mean squared error: %.3f\" % metrics.mean_squared_error(y_reg, y_pred))"
   ]
  },
  {
   "cell_type": "code",
   "execution_count": 22,
   "metadata": {},
   "outputs": [
    {
     "name": "stdout",
     "output_type": "stream",
     "text": [
      "Mean squared error: 58406785.185\n"
     ]
    }
   ],
   "source": [
    "#test juste fit et val\n",
    "lin_reg_2 = linear_model.LinearRegression()\n",
    "lin_reg_2.fit(X_reg, y_reg)\n",
    "y_pred_2 = lin_reg_2.predict(X_reg)\n",
    "print(\"Mean squared error: %.3f\" % metrics.mean_squared_error(y_reg, y_pred_2))"
   ]
  },
  {
   "cell_type": "code",
   "execution_count": null,
   "metadata": {
    "collapsed": true
   },
   "outputs": [],
   "source": []
  }
 ],
 "metadata": {
  "kernelspec": {
   "display_name": "Python 2",
   "language": "python",
   "name": "python2"
  },
  "language_info": {
   "codemirror_mode": {
    "name": "ipython",
    "version": 2
   },
   "file_extension": ".py",
   "mimetype": "text/x-python",
   "name": "python",
   "nbconvert_exporter": "python",
   "pygments_lexer": "ipython2",
   "version": "2.7.13"
  }
 },
 "nbformat": 4,
 "nbformat_minor": 2
}
